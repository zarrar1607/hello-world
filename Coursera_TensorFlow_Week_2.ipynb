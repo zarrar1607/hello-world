{
  "nbformat": 4,
  "nbformat_minor": 0,
  "metadata": {
    "colab": {
      "name": "Coursera - TensorFlow Week 2.ipynb",
      "provenance": [],
      "collapsed_sections": [],
      "authorship_tag": "ABX9TyN0nNz0YdVwOOP8cxwg8mtp",
      "include_colab_link": true
    },
    "kernelspec": {
      "name": "python3",
      "display_name": "Python 3"
    }
  },
  "cells": [
    {
      "cell_type": "markdown",
      "metadata": {
        "id": "view-in-github",
        "colab_type": "text"
      },
      "source": [
        "<a href=\"https://colab.research.google.com/github/zarrar1607/hello-world/blob/master/Coursera_TensorFlow_Week_2.ipynb\" target=\"_parent\"><img src=\"https://colab.research.google.com/assets/colab-badge.svg\" alt=\"Open In Colab\"/></a>"
      ]
    },
    {
      "cell_type": "code",
      "metadata": {
        "id": "hRhjvQgVPlyt"
      },
      "source": [
        "import keras\n",
        "import tensorflow as tf\n",
        "import pandas as pd"
      ],
      "execution_count": null,
      "outputs": []
    },
    {
      "cell_type": "code",
      "source": [
        "import tensorflow.keras"
      ],
      "metadata": {
        "id": "caw38sz_AZo4"
      },
      "execution_count": null,
      "outputs": []
    },
    {
      "cell_type": "code",
      "metadata": {
        "id": "Gy3jEjVsP76K"
      },
      "source": [
        "fashion_minst = keras.datasets.fashion_mnist\n",
        "(train_images,train_labels),(test_images,test_labels) = fashion_minst.load_data()"
      ],
      "execution_count": null,
      "outputs": []
    },
    {
      "cell_type": "code",
      "metadata": {
        "id": "0xKXcfuxU5NT"
      },
      "source": [
        "import matplotlib.pyplot as plt\n",
        "plt.imshow(train_images[0])\n",
        "print(train_labels[0])\n",
        "print(train_images[0])"
      ],
      "execution_count": null,
      "outputs": []
    },
    {
      "cell_type": "code",
      "source": [
        "print(train_images.shape)\n",
        "print(train_labels.shape)"
      ],
      "metadata": {
        "colab": {
          "base_uri": "https://localhost:8080/"
        },
        "id": "JATq1oY8F8AS",
        "outputId": "fd74f773-1565-4e13-808b-2076f47db882"
      },
      "execution_count": null,
      "outputs": [
        {
          "output_type": "stream",
          "name": "stdout",
          "text": [
            "(60000, 28, 28)\n",
            "(60000,)\n"
          ]
        }
      ]
    },
    {
      "cell_type": "code",
      "source": [
        "tf.unique(train_labels)"
      ],
      "metadata": {
        "colab": {
          "base_uri": "https://localhost:8080/"
        },
        "id": "VEMZejm5FSaJ",
        "outputId": "a617c901-a8d0-4e1a-f6fd-1754f16d156e"
      },
      "execution_count": null,
      "outputs": [
        {
          "output_type": "execute_result",
          "data": {
            "text/plain": [
              "Unique(y=<tf.Tensor: shape=(10,), dtype=uint8, numpy=array([9, 0, 3, 2, 7, 5, 1, 6, 4, 8], dtype=uint8)>, idx=<tf.Tensor: shape=(60000,), dtype=int32, numpy=array([0, 1, 1, ..., 2, 1, 5], dtype=int32)>)"
            ]
          },
          "metadata": {},
          "execution_count": 15
        }
      ]
    },
    {
      "cell_type": "code",
      "source": [
        "y, idx, count = tf.unique_with_counts(train_labels)\n",
        "print(y)\n",
        "print(count)"
      ],
      "metadata": {
        "colab": {
          "base_uri": "https://localhost:8080/"
        },
        "id": "5n5bTI8QGfMy",
        "outputId": "0b5d068e-0bcf-487d-a8ac-39b8651dad64"
      },
      "execution_count": null,
      "outputs": [
        {
          "output_type": "stream",
          "name": "stdout",
          "text": [
            "tf.Tensor([9 0 3 2 7 5 1 6 4 8], shape=(10,), dtype=uint8)\n",
            "tf.Tensor([6000 6000 6000 6000 6000 6000 6000 6000 6000 6000], shape=(10,), dtype=int32)\n"
          ]
        }
      ]
    },
    {
      "cell_type": "markdown",
      "metadata": {
        "id": "i1rNT-HxaxuV"
      },
      "source": [
        "#Normalizing the data\n",
        "On dividing by 255 \n",
        "The reamining data will be in between 0s and 1s\n",
        "Neural network works better with normalized data"
      ]
    },
    {
      "cell_type": "code",
      "metadata": {
        "id": "Iv7ZOEgHaX22"
      },
      "source": [
        "train_images = train_images / 255.0\n",
        "test_images = test_images / 255.0"
      ],
      "execution_count": null,
      "outputs": []
    },
    {
      "cell_type": "markdown",
      "source": [
        "1. **keras.layers.Flatten:** A flatten operation on a tensor reshapes the tensor to have the shape that is equal to the number of elements contained in tensor non including the batch dimension.\n",
        "\n",
        "  ![Flatten vs Dense.png](data:image/png;base64,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)\n",
        "2. **tf.nn:** Primitive Neural Net (NN) Operations.\n",
        "3.**tf.nn.relu:** Relu activation function in keras and why is it used The Rectified Linear Unit is the most commonly used activation function in deep learning models. The function returns 0 if it receives any negative input, but for any positive value x it returns that value back.\n",
        "3. **tf.nn.softmax:** Relu activation function in keras and why is it used The Rectified Linear Unit is the most commonly used activation function in deep learning models. The function returns 0 if it receives any negative input, but for any positive value x it returns that value back. Softmax is often used as the activation for the last layer of a classification network.  "
      ],
      "metadata": {
        "id": "ZY-9-nY2Avs_"
      }
    },
    {
      "cell_type": "code",
      "metadata": {
        "id": "1MDsyS8FQTOy",
        "colab": {
          "base_uri": "https://localhost:8080/"
        },
        "outputId": "df714bda-071b-4138-ff6c-3a4f12ae83cf"
      },
      "source": [
        "model = keras.Sequential([   \n",
        "  keras.layers.Flatten(input_shape = (28,28)),\n",
        "  keras.layers.Dense(128, activation=tf.nn.relu),\n",
        "  keras.layers.Dense(10,activation=tf.nn.softmax)\n",
        "])\n",
        "model.summary()"
      ],
      "execution_count": null,
      "outputs": [
        {
          "output_type": "stream",
          "name": "stdout",
          "text": [
            "Model: \"sequential_1\"\n",
            "_________________________________________________________________\n",
            " Layer (type)                Output Shape              Param #   \n",
            "=================================================================\n",
            " flatten_1 (Flatten)         (None, 784)               0         \n",
            "                                                                 \n",
            " dense_2 (Dense)             (None, 128)               100480    \n",
            "                                                                 \n",
            " dense_3 (Dense)             (None, 10)                1290      \n",
            "                                                                 \n",
            "=================================================================\n",
            "Total params: 101,770\n",
            "Trainable params: 101,770\n",
            "Non-trainable params: 0\n",
            "_________________________________________________________________\n"
          ]
        }
      ]
    },
    {
      "cell_type": "code",
      "metadata": {
        "id": "hbGWoWgldJHS"
      },
      "source": [
        "model.compile(optimizer= tf.optimizers.Adam(),\n",
        "              loss = 'sparse_categorical_crossentropy')\n",
        "model.fit(train_images,train_labels,epochs=50)"
      ],
      "execution_count": null,
      "outputs": []
    },
    {
      "cell_type": "code",
      "metadata": {
        "id": "zUrd3Wi9eFsi",
        "outputId": "33927300-cd8a-4968-d34a-ea9631bc13f9",
        "colab": {
          "base_uri": "https://localhost:8080/",
          "height": 51
        }
      },
      "source": [
        "model.evaluate(test_images,test_labels)"
      ],
      "execution_count": null,
      "outputs": [
        {
          "output_type": "stream",
          "text": [
            "10000/10000 [==============================] - 0s 28us/step\n"
          ],
          "name": "stdout"
        },
        {
          "output_type": "execute_result",
          "data": {
            "text/plain": [
              "0.5199930697858334"
            ]
          },
          "metadata": {
            "tags": []
          },
          "execution_count": 34
        }
      ]
    },
    {
      "cell_type": "markdown",
      "metadata": {
        "id": "7GY6q789h4U4"
      },
      "source": [
        "# Callback Function\n",
        "A callback function is a function passed into another function as an argument, which is then invoked inside the outer function to complete some kind of routine or action."
      ]
    },
    {
      "cell_type": "code",
      "metadata": {
        "id": "YQTWeny4h3U4"
      },
      "source": [
        "class myCallback(tf.keras.callbacks.Callback):\n",
        "  def on_epoch_end(self, epoch, logs={}):\n",
        "    if(logs.get('loss')<0.4):\n",
        "      print(\"\\nLoss is low ==> Cancelling Training!!\")\n",
        "      self.model.stop_training = True\n",
        "# myCallback: Stop training when losses are less 0.4"
      ],
      "execution_count": null,
      "outputs": []
    },
    {
      "cell_type": "code",
      "metadata": {
        "id": "Bk9KcOoyilSf",
        "outputId": "8827df6c-6066-40ff-b12c-c005afdbbe11",
        "colab": {
          "base_uri": "https://localhost:8080/",
          "height": 102
        }
      },
      "source": [
        "callbacks = myCallback()\n",
        "model.compile(optimizer= tf.optimizers.Adam(),\n",
        "              loss = 'sparse_categorical_crossentropy')\n",
        "model.fit(train_images,train_labels,epochs = 5, callbacks=[callbacks])"
      ],
      "execution_count": null,
      "outputs": [
        {
          "output_type": "stream",
          "text": [
            "Epoch 1/5\n",
            "60000/60000 [==============================] - 3s 58us/step - loss: 0.0877\n",
            "\n",
            "Loss is low ==> Cancelling Training!!\n"
          ],
          "name": "stdout"
        },
        {
          "output_type": "execute_result",
          "data": {
            "text/plain": [
              "<keras.callbacks.callbacks.History at 0x7fac52c16ba8>"
            ]
          },
          "metadata": {
            "tags": []
          },
          "execution_count": 41
        }
      ]
    },
    {
      "cell_type": "code",
      "metadata": {
        "id": "S0NO25fcjAeF",
        "outputId": "11f2537f-a4bd-45b9-b533-e808aade9e88",
        "colab": {
          "base_uri": "https://localhost:8080/",
          "height": 51
        }
      },
      "source": [
        "model.evaluate(test_images,test_labels)"
      ],
      "execution_count": null,
      "outputs": [
        {
          "output_type": "stream",
          "text": [
            "10000/10000 [==============================] - 0s 24us/step\n"
          ],
          "name": "stdout"
        },
        {
          "output_type": "execute_result",
          "data": {
            "text/plain": [
              "0.5506919248998166"
            ]
          },
          "metadata": {
            "tags": []
          },
          "execution_count": 37
        }
      ]
    },
    {
      "cell_type": "code",
      "metadata": {
        "id": "NNyXla2E5wcY"
      },
      "source": [
        "# GRADED FUNCTION: train_mnist\n",
        "def train_mnist():\n",
        "    # Please write your code only where you are indicated.\n",
        "    # please do not remove # model fitting inline comments.\n",
        "\n",
        "    # YOUR CODE SHOULD START HERE\n",
        "    class myCallback(tf.keras.callbacks.Callback):\n",
        "        def on_epoch_end(self,epoch,logs={}):\n",
        "            if(logs.get('acc')>0.99):\n",
        "                print('\\nReached 99% accuracy so cancelling training!')\n",
        "                self.model.stop_training = True\n",
        "    callbacks = myCallback()\n",
        "    # YOUR CODE SHOULD END HERE\n",
        "\n",
        "    mnist = tf.keras.datasets.mnist\n",
        "\n",
        "    (x_train, y_train),(x_test, y_test) = mnist.load_data(path=path)\n",
        "    # YOUR CODE SHOULD START HERE\n",
        "    x_train = x_train / 255.0\n",
        "    x_test = x_test / 255.0\n",
        "    # YOUR CODE SHOULD END HERE\n",
        "    model = tf.keras.models.Sequential([\n",
        "        # YOUR CODE SHOULD START HERE\n",
        "        tf.keras.layers.Flatten(input_shape = (28,28)),\n",
        "        tf.keras.layers.Dense(1024,activation = tf.nn.relu),\n",
        "        tf.keras.layers.Dense(514,activation = tf.nn.softmax)\n",
        "        # YOUR CODE SHOULD END HERE\n",
        "    ])\n",
        "\n",
        "    model.compile(optimizer='adam',\n",
        "                  loss='sparse_categorical_crossentropy',\n",
        "                  metrics=['accuracy'])\n",
        "    \n",
        "    # model fitting\n",
        "    history = model.fit(# YOUR CODE SHOULD START HERE\n",
        "        x_train,y_train,epochs = 10,callbacks = [callbacks]\n",
        "              # YOUR CODE SHOULD END HERE\n",
        "    )\n",
        "    # model fitting\n",
        "    return history.epoch, history.history['acc'][-1]"
      ],
      "execution_count": null,
      "outputs": []
    },
    {
      "cell_type": "code",
      "metadata": {
        "id": "6wxTFC8M5zUc",
        "outputId": "f0075db6-2c0c-43f7-c5bd-097c193c8918",
        "colab": {
          "base_uri": "https://localhost:8080/",
          "height": 282
        }
      },
      "source": [
        "train_mnist()"
      ],
      "execution_count": null,
      "outputs": [
        {
          "output_type": "error",
          "ename": "NameError",
          "evalue": "ignored",
          "traceback": [
            "\u001b[0;31m---------------------------------------------------------------------------\u001b[0m",
            "\u001b[0;31mNameError\u001b[0m                                 Traceback (most recent call last)",
            "\u001b[0;32m<ipython-input-43-d3617ae8770d>\u001b[0m in \u001b[0;36m<module>\u001b[0;34m()\u001b[0m\n\u001b[0;32m----> 1\u001b[0;31m \u001b[0mtrain_mnist\u001b[0m\u001b[0;34m(\u001b[0m\u001b[0;34m)\u001b[0m\u001b[0;34m\u001b[0m\u001b[0;34m\u001b[0m\u001b[0m\n\u001b[0m",
            "\u001b[0;32m<ipython-input-42-0f15bae86754>\u001b[0m in \u001b[0;36mtrain_mnist\u001b[0;34m()\u001b[0m\n\u001b[1;32m     14\u001b[0m     \u001b[0mmnist\u001b[0m \u001b[0;34m=\u001b[0m \u001b[0mtf\u001b[0m\u001b[0;34m.\u001b[0m\u001b[0mkeras\u001b[0m\u001b[0;34m.\u001b[0m\u001b[0mdatasets\u001b[0m\u001b[0;34m.\u001b[0m\u001b[0mmnist\u001b[0m\u001b[0;34m\u001b[0m\u001b[0;34m\u001b[0m\u001b[0m\n\u001b[1;32m     15\u001b[0m \u001b[0;34m\u001b[0m\u001b[0m\n\u001b[0;32m---> 16\u001b[0;31m     \u001b[0;34m(\u001b[0m\u001b[0mx_train\u001b[0m\u001b[0;34m,\u001b[0m \u001b[0my_train\u001b[0m\u001b[0;34m)\u001b[0m\u001b[0;34m,\u001b[0m\u001b[0;34m(\u001b[0m\u001b[0mx_test\u001b[0m\u001b[0;34m,\u001b[0m \u001b[0my_test\u001b[0m\u001b[0;34m)\u001b[0m \u001b[0;34m=\u001b[0m \u001b[0mmnist\u001b[0m\u001b[0;34m.\u001b[0m\u001b[0mload_data\u001b[0m\u001b[0;34m(\u001b[0m\u001b[0mpath\u001b[0m\u001b[0;34m=\u001b[0m\u001b[0mpath\u001b[0m\u001b[0;34m)\u001b[0m\u001b[0;34m\u001b[0m\u001b[0;34m\u001b[0m\u001b[0m\n\u001b[0m\u001b[1;32m     17\u001b[0m     \u001b[0;31m# YOUR CODE SHOULD START HERE\u001b[0m\u001b[0;34m\u001b[0m\u001b[0;34m\u001b[0m\u001b[0;34m\u001b[0m\u001b[0m\n\u001b[1;32m     18\u001b[0m     \u001b[0mx_train\u001b[0m \u001b[0;34m=\u001b[0m \u001b[0mx_train\u001b[0m \u001b[0;34m/\u001b[0m \u001b[0;36m255.0\u001b[0m\u001b[0;34m\u001b[0m\u001b[0;34m\u001b[0m\u001b[0m\n",
            "\u001b[0;31mNameError\u001b[0m: name 'path' is not defined"
          ]
        }
      ]
    }
  ]
}